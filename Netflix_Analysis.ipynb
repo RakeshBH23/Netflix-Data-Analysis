{
  "nbformat": 4,
  "nbformat_minor": 4,
  "metadata": {
    "kernelspec": {
      "display_name": "Python 3",
      "language": "python",
      "name": "python3"
    },
    "language_info": {
      "name": "python",
      "version": "3.8.8"
    }
  },
  "cells": [
    {
      "cell_type": "code",
      "execution_count": 1,
      "metadata": {},
      "source": [
        "import pandas as pd\n",
        "import matplotlib.pyplot as plt\n",
        "import seaborn as sns\n",
        "from collections import Counter\n"
      ],
      "outputs": []
    },
    {
      "cell_type": "code",
      "execution_count": 2,
      "metadata": {},
      "source": [
        "# Load the dataset\n",
        "df = pd.read_csv('Netflix-Data-Analysis.csv')\n",
        "df.head()"
      ],
      "outputs": []
    },
    {
      "cell_type": "code",
      "execution_count": 3,
      "metadata": {},
      "source": [
        "# Check for missing values\n",
        "df.isnull().sum()"
      ],
      "outputs": []
    },
    {
      "cell_type": "code",
      "execution_count": 4,
      "metadata": {},
      "source": [
        "# Count Movies and TV Shows\n",
        "sns.countplot(x=df[\"type\"], palette=\"viridis\")\n",
        "plt.title(\"Number of Movies vs. TV Shows on Netflix\")\n",
        "plt.show()"
      ],
      "outputs": []
    },
    {
      "cell_type": "code",
      "execution_count": 5,
      "metadata": {},
      "source": [
        "# Plot Netflix content added per year\n",
        "df['release_year'].value_counts().sort_index().plot(kind='line', figsize=(10,5), color='red')\n",
        "plt.title(\"Netflix Content Added Per Year\")\n",
        "plt.xlabel(\"Year\")\n",
        "plt.ylabel(\"Number of Titles\")\n",
        "plt.grid(True)\n",
        "plt.show()"
      ],
      "outputs": []
    },
    {
      "cell_type": "code",
      "execution_count": 6,
      "metadata": {},
      "source": [
        "# Split genres and count\n",
        "all_genres = df['listed_in'].dropna().str.split(', ').sum()\n",
        "genre_counts = Counter(all_genres)\n",
        "pd.DataFrame(genre_counts.most_common(10), columns=['Genre', 'Count']).set_index('Genre').plot(kind='bar', figsize=(10,5), color='blue')\n",
        "plt.title(\"Top 10 Most Common Netflix Genres\")\n",
        "plt.show()"
      ],
      "outputs": []
    }
  ]
}
