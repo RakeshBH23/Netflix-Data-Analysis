{
  "imports": [
    "pandas as pd",
    "matplotlib.pyplot as plt",
    "seaborn as sns",
    "from collections import Counter"
  ],
  "load_dataset": {
    "filename": "Netflix-Data-Analysis.csv",
    "dataframe_name": "df"
  },
  "display_head": "df.head()",
  "check_missing_values": "df.isnull().sum()",
  "count_movies_tv_shows": {
    "plot": "sns.countplot(x=df[\"type\"], palette=\"viridis\")",
    "title": "Number of Movies vs. TV Shows on Netflix",
    "show": "plt.show()"
  },
  "content_per_year": {
    "plot": "df['release_year'].value_counts().sort_index().plot(kind='line', figsize=(10,5), color='red')",
    "title": "Netflix Content Added Per Year",
    "xlabel": "Year",
    "ylabel": "Number of Titles",
    "grid": "True",
    "show": "plt.show()"
  },
  "top_genres": {
    "split_genres": "df['listed_in'].dropna().str.split(', ').sum()",
    "count_genres": "Counter(all_genres)",
    "plot": "pd.DataFrame(genre_counts.most_common(10), columns=['Genre', 'Count']).set_index('Genre').plot(kind='bar', figsize=(10,5), color='blue')",
    "title": "Top 10 Most Common Netflix Genres",
    "show": "plt.show()"
  }
}
