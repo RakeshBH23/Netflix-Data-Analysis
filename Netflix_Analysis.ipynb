import pandas as pd
import matplotlib.pyplot as plt
import seaborn as sns
from collections import Counter

# Load the dataset
df = pd.read_csv('Netflix-Data-Analysis.csv')

# Display the first five rows
df.head()

# Check for missing values
print(df.isnull().sum())

# Count Movies and TV Shows
sns.countplot(x=df["type"], palette="viridis")
plt.title("Number of Movies vs. TV Shows on Netflix")
plt.show()

# Plot Netflix content added per year
df['release_year'].value_counts().sort_index().plot(kind='line', figsize=(10,5), color='red')
plt.title("Netflix Content Added Per Year")
plt.xlabel("Year")
plt.ylabel("Number of Titles")
plt.grid(True)
plt.show()

# Split genres and count
all_genres = df['listed_in'].dropna().str.split(', ').sum()
genre_counts = Counter(all_genres)

# Plot the top 10 genres
pd.DataFrame(genre_counts.most_common(10), columns=['Genre', 'Count']).set_index('Genre').plot(kind='bar', figsize=(10,5), color='blue')
plt.title("Top 10 Most Common Netflix Genres")
plt.show()
